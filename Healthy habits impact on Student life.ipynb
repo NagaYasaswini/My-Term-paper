{
 "cells": [
  {
   "cell_type": "code",
   "execution_count": 1,
   "id": "7ec4bd65",
   "metadata": {},
   "outputs": [],
   "source": [
    "import pandas as pd\n",
    "import seaborn as sns\n",
    "import matplotlib.pyplot as plt"
   ]
  },
  {
   "cell_type": "code",
   "execution_count": 2,
   "id": "78494146",
   "metadata": {},
   "outputs": [],
   "source": [
    "happylife_data=pd.read_csv(\"Responses.csv\")"
   ]
  },
  {
   "cell_type": "code",
   "execution_count": 3,
   "id": "f9e1813f",
   "metadata": {},
   "outputs": [
    {
     "data": {
      "text/html": [
       "<div>\n",
       "<style scoped>\n",
       "    .dataframe tbody tr th:only-of-type {\n",
       "        vertical-align: middle;\n",
       "    }\n",
       "\n",
       "    .dataframe tbody tr th {\n",
       "        vertical-align: top;\n",
       "    }\n",
       "\n",
       "    .dataframe thead th {\n",
       "        text-align: right;\n",
       "    }\n",
       "</style>\n",
       "<table border=\"1\" class=\"dataframe\">\n",
       "  <thead>\n",
       "    <tr style=\"text-align: right;\">\n",
       "      <th></th>\n",
       "      <th>Gender</th>\n",
       "      <th>Occupation</th>\n",
       "      <th>Parttime_job</th>\n",
       "      <th>food_type</th>\n",
       "      <th>Junk_food</th>\n",
       "      <th>Consumption_of_junk_food</th>\n",
       "      <th>Exercise</th>\n",
       "      <th>How_often_you_exercise</th>\n",
       "      <th>Type_of_Physicalactivity</th>\n",
       "      <th>Meditaton</th>\n",
       "      <th>...</th>\n",
       "      <th>Reason_for_dietplan</th>\n",
       "      <th>Change_after_dietplan</th>\n",
       "      <th>Dietplan_duration</th>\n",
       "      <th>Stress</th>\n",
       "      <th>Clamness_level</th>\n",
       "      <th>ExtraCurricular_activities</th>\n",
       "      <th>Extracurricular_studies</th>\n",
       "      <th>stress_management</th>\n",
       "      <th>Do_you_like_to_excercise</th>\n",
       "      <th>Happylife_Excercise</th>\n",
       "    </tr>\n",
       "  </thead>\n",
       "  <tbody>\n",
       "    <tr>\n",
       "      <th>0</th>\n",
       "      <td>Female</td>\n",
       "      <td>Student</td>\n",
       "      <td>Yes</td>\n",
       "      <td>Vegetarian food includes Eggs</td>\n",
       "      <td>No</td>\n",
       "      <td>Sometimes</td>\n",
       "      <td>Yes</td>\n",
       "      <td>Sometimes</td>\n",
       "      <td>Yoga</td>\n",
       "      <td>Yes</td>\n",
       "      <td>...</td>\n",
       "      <td>To Stay healthy</td>\n",
       "      <td>Maybe</td>\n",
       "      <td>NaN</td>\n",
       "      <td>No</td>\n",
       "      <td>3.0</td>\n",
       "      <td>No</td>\n",
       "      <td>Maybe</td>\n",
       "      <td>Go out for a walk</td>\n",
       "      <td>Yes</td>\n",
       "      <td>Yes</td>\n",
       "    </tr>\n",
       "    <tr>\n",
       "      <th>1</th>\n",
       "      <td>Male</td>\n",
       "      <td>Student</td>\n",
       "      <td>No</td>\n",
       "      <td>Non Vegetarian food</td>\n",
       "      <td>NaN</td>\n",
       "      <td>Sometimes</td>\n",
       "      <td>Maybe</td>\n",
       "      <td>Never</td>\n",
       "      <td>Cardio</td>\n",
       "      <td>No</td>\n",
       "      <td>...</td>\n",
       "      <td>Weight loss</td>\n",
       "      <td>Yes</td>\n",
       "      <td>1-3 months</td>\n",
       "      <td>No</td>\n",
       "      <td>3.0</td>\n",
       "      <td>No</td>\n",
       "      <td>No</td>\n",
       "      <td>Go for a trip</td>\n",
       "      <td>No</td>\n",
       "      <td>Maybe</td>\n",
       "    </tr>\n",
       "    <tr>\n",
       "      <th>2</th>\n",
       "      <td>Female</td>\n",
       "      <td>Student</td>\n",
       "      <td>No</td>\n",
       "      <td>Vegetarian food</td>\n",
       "      <td>Maybe</td>\n",
       "      <td>Sometimes</td>\n",
       "      <td>Maybe</td>\n",
       "      <td>Sometimes</td>\n",
       "      <td>Other</td>\n",
       "      <td>No</td>\n",
       "      <td>...</td>\n",
       "      <td>To Stay healthy</td>\n",
       "      <td>Yes</td>\n",
       "      <td>1-3 months</td>\n",
       "      <td>Maybe</td>\n",
       "      <td>3.0</td>\n",
       "      <td>Yes</td>\n",
       "      <td>Maybe</td>\n",
       "      <td>Go out for a walk</td>\n",
       "      <td>Yes</td>\n",
       "      <td>Yes</td>\n",
       "    </tr>\n",
       "    <tr>\n",
       "      <th>3</th>\n",
       "      <td>Female</td>\n",
       "      <td>Student</td>\n",
       "      <td>No</td>\n",
       "      <td>Vegetarian food</td>\n",
       "      <td>Yes</td>\n",
       "      <td>Sometimes</td>\n",
       "      <td>Maybe</td>\n",
       "      <td>Sometimes</td>\n",
       "      <td>Cardio</td>\n",
       "      <td>No</td>\n",
       "      <td>...</td>\n",
       "      <td>NaN</td>\n",
       "      <td>No</td>\n",
       "      <td>NaN</td>\n",
       "      <td>Yes</td>\n",
       "      <td>3.0</td>\n",
       "      <td>No</td>\n",
       "      <td>Maybe</td>\n",
       "      <td>Go out for a walk</td>\n",
       "      <td>Yes</td>\n",
       "      <td>Yes</td>\n",
       "    </tr>\n",
       "    <tr>\n",
       "      <th>4</th>\n",
       "      <td>Female</td>\n",
       "      <td>Student</td>\n",
       "      <td>No</td>\n",
       "      <td>Non Vegetarian food</td>\n",
       "      <td>Maybe</td>\n",
       "      <td>Sometimes</td>\n",
       "      <td>Yes</td>\n",
       "      <td>Very Often</td>\n",
       "      <td>Cardio</td>\n",
       "      <td>No</td>\n",
       "      <td>...</td>\n",
       "      <td>NaN</td>\n",
       "      <td>No</td>\n",
       "      <td>NaN</td>\n",
       "      <td>Maybe</td>\n",
       "      <td>4.0</td>\n",
       "      <td>No</td>\n",
       "      <td>No</td>\n",
       "      <td>Go out for a walk</td>\n",
       "      <td>Yes</td>\n",
       "      <td>Yes</td>\n",
       "    </tr>\n",
       "  </tbody>\n",
       "</table>\n",
       "<p>5 rows × 23 columns</p>\n",
       "</div>"
      ],
      "text/plain": [
       "   Gender Occupation Parttime_job                      food_type Junk_food  \\\n",
       "0  Female    Student          Yes  Vegetarian food includes Eggs        No   \n",
       "1    Male    Student           No            Non Vegetarian food       NaN   \n",
       "2  Female    Student           No                Vegetarian food     Maybe   \n",
       "3  Female    Student           No                Vegetarian food       Yes   \n",
       "4  Female    Student           No            Non Vegetarian food     Maybe   \n",
       "\n",
       "  Consumption_of_junk_food Exercise How_often_you_exercise  \\\n",
       "0                Sometimes      Yes              Sometimes   \n",
       "1                Sometimes    Maybe                  Never   \n",
       "2                Sometimes    Maybe              Sometimes   \n",
       "3                Sometimes    Maybe              Sometimes   \n",
       "4                Sometimes      Yes             Very Often   \n",
       "\n",
       "  Type_of_Physicalactivity Meditaton  ... Reason_for_dietplan  \\\n",
       "0                     Yoga       Yes  ...     To Stay healthy   \n",
       "1                   Cardio        No  ...         Weight loss   \n",
       "2                    Other        No  ...     To Stay healthy   \n",
       "3                   Cardio        No  ...                 NaN   \n",
       "4                   Cardio        No  ...                 NaN   \n",
       "\n",
       "  Change_after_dietplan Dietplan_duration Stress Clamness_level  \\\n",
       "0                 Maybe               NaN     No            3.0   \n",
       "1                   Yes        1-3 months     No            3.0   \n",
       "2                   Yes        1-3 months  Maybe            3.0   \n",
       "3                    No               NaN    Yes            3.0   \n",
       "4                    No               NaN  Maybe            4.0   \n",
       "\n",
       "  ExtraCurricular_activities Extracurricular_studies  stress_management  \\\n",
       "0                         No                   Maybe  Go out for a walk   \n",
       "1                         No                      No      Go for a trip   \n",
       "2                        Yes                   Maybe  Go out for a walk   \n",
       "3                         No                   Maybe  Go out for a walk   \n",
       "4                         No                      No  Go out for a walk   \n",
       "\n",
       "  Do_you_like_to_excercise Happylife_Excercise  \n",
       "0                      Yes                 Yes  \n",
       "1                       No               Maybe  \n",
       "2                      Yes                 Yes  \n",
       "3                      Yes                 Yes  \n",
       "4                      Yes                 Yes  \n",
       "\n",
       "[5 rows x 23 columns]"
      ]
     },
     "execution_count": 3,
     "metadata": {},
     "output_type": "execute_result"
    }
   ],
   "source": [
    "happylife_data.head()"
   ]
  },
  {
   "cell_type": "code",
   "execution_count": 4,
   "id": "98acfc3a",
   "metadata": {},
   "outputs": [
    {
     "data": {
      "text/html": [
       "<div>\n",
       "<style scoped>\n",
       "    .dataframe tbody tr th:only-of-type {\n",
       "        vertical-align: middle;\n",
       "    }\n",
       "\n",
       "    .dataframe tbody tr th {\n",
       "        vertical-align: top;\n",
       "    }\n",
       "\n",
       "    .dataframe thead th {\n",
       "        text-align: right;\n",
       "    }\n",
       "</style>\n",
       "<table border=\"1\" class=\"dataframe\">\n",
       "  <thead>\n",
       "    <tr style=\"text-align: right;\">\n",
       "      <th></th>\n",
       "      <th>Gender</th>\n",
       "      <th>Occupation</th>\n",
       "      <th>Parttime_job</th>\n",
       "      <th>food_type</th>\n",
       "      <th>Junk_food</th>\n",
       "      <th>Consumption_of_junk_food</th>\n",
       "      <th>Exercise</th>\n",
       "      <th>How_often_you_exercise</th>\n",
       "      <th>Type_of_Physicalactivity</th>\n",
       "      <th>Meditaton</th>\n",
       "      <th>...</th>\n",
       "      <th>Reason_for_dietplan</th>\n",
       "      <th>Change_after_dietplan</th>\n",
       "      <th>Dietplan_duration</th>\n",
       "      <th>Stress</th>\n",
       "      <th>Clamness_level</th>\n",
       "      <th>ExtraCurricular_activities</th>\n",
       "      <th>Extracurricular_studies</th>\n",
       "      <th>stress_management</th>\n",
       "      <th>Do_you_like_to_excercise</th>\n",
       "      <th>Happylife_Excercise</th>\n",
       "    </tr>\n",
       "  </thead>\n",
       "  <tbody>\n",
       "    <tr>\n",
       "      <th>47</th>\n",
       "      <td>Female</td>\n",
       "      <td>Student</td>\n",
       "      <td>No</td>\n",
       "      <td>Vegetarian food</td>\n",
       "      <td>Yes</td>\n",
       "      <td>Sometimes</td>\n",
       "      <td>Maybe</td>\n",
       "      <td>Sometimes</td>\n",
       "      <td>Yoga</td>\n",
       "      <td>No</td>\n",
       "      <td>...</td>\n",
       "      <td>NaN</td>\n",
       "      <td>Maybe</td>\n",
       "      <td>0 month</td>\n",
       "      <td>Yes</td>\n",
       "      <td>3.0</td>\n",
       "      <td>No</td>\n",
       "      <td>Yes</td>\n",
       "      <td>Go out for a walk</td>\n",
       "      <td>Yes</td>\n",
       "      <td>Yes</td>\n",
       "    </tr>\n",
       "    <tr>\n",
       "      <th>48</th>\n",
       "      <td>Male</td>\n",
       "      <td>Student</td>\n",
       "      <td>Yes</td>\n",
       "      <td>Non Vegetarian food</td>\n",
       "      <td>Yes</td>\n",
       "      <td>Sometimes</td>\n",
       "      <td>Yes</td>\n",
       "      <td>Very Often</td>\n",
       "      <td>Other</td>\n",
       "      <td>Maybe</td>\n",
       "      <td>...</td>\n",
       "      <td>To Stay healthy</td>\n",
       "      <td>No</td>\n",
       "      <td>0 month</td>\n",
       "      <td>Yes</td>\n",
       "      <td>1.0</td>\n",
       "      <td>Yes</td>\n",
       "      <td>Yes</td>\n",
       "      <td>Go for a trip</td>\n",
       "      <td>Yes</td>\n",
       "      <td>Yes</td>\n",
       "    </tr>\n",
       "    <tr>\n",
       "      <th>49</th>\n",
       "      <td>Female</td>\n",
       "      <td>Student</td>\n",
       "      <td>No</td>\n",
       "      <td>Vegetarian food</td>\n",
       "      <td>Yes</td>\n",
       "      <td>Very Often</td>\n",
       "      <td>Yes</td>\n",
       "      <td>Very Often</td>\n",
       "      <td>Other</td>\n",
       "      <td>No</td>\n",
       "      <td>...</td>\n",
       "      <td>NaN</td>\n",
       "      <td>Maybe</td>\n",
       "      <td>NaN</td>\n",
       "      <td>Yes</td>\n",
       "      <td>3.0</td>\n",
       "      <td>Yes</td>\n",
       "      <td>Maybe</td>\n",
       "      <td>Exercise</td>\n",
       "      <td>Yes</td>\n",
       "      <td>Yes</td>\n",
       "    </tr>\n",
       "    <tr>\n",
       "      <th>50</th>\n",
       "      <td>Female</td>\n",
       "      <td>Student</td>\n",
       "      <td>No</td>\n",
       "      <td>Vegetarian and Non vegetarian</td>\n",
       "      <td>Yes</td>\n",
       "      <td>Sometimes</td>\n",
       "      <td>Yes</td>\n",
       "      <td>Sometimes</td>\n",
       "      <td>Cardio</td>\n",
       "      <td>Yes</td>\n",
       "      <td>...</td>\n",
       "      <td>NaN</td>\n",
       "      <td>Yes</td>\n",
       "      <td>1-4 months</td>\n",
       "      <td>Yes</td>\n",
       "      <td>5.0</td>\n",
       "      <td>Yes</td>\n",
       "      <td>No</td>\n",
       "      <td>Go for a trip</td>\n",
       "      <td>Yes</td>\n",
       "      <td>Yes</td>\n",
       "    </tr>\n",
       "    <tr>\n",
       "      <th>51</th>\n",
       "      <td>Female</td>\n",
       "      <td>Student</td>\n",
       "      <td>No</td>\n",
       "      <td>Vegetarian and Non vegetarian</td>\n",
       "      <td>Yes</td>\n",
       "      <td>Sometimes</td>\n",
       "      <td>Maybe</td>\n",
       "      <td>Very Often</td>\n",
       "      <td>Gym</td>\n",
       "      <td>No</td>\n",
       "      <td>...</td>\n",
       "      <td>Weight loss</td>\n",
       "      <td>Yes</td>\n",
       "      <td>0 month</td>\n",
       "      <td>Yes</td>\n",
       "      <td>2.0</td>\n",
       "      <td>Yes</td>\n",
       "      <td>Yes</td>\n",
       "      <td>Watch a movie</td>\n",
       "      <td>Yes</td>\n",
       "      <td>Yes</td>\n",
       "    </tr>\n",
       "  </tbody>\n",
       "</table>\n",
       "<p>5 rows × 23 columns</p>\n",
       "</div>"
      ],
      "text/plain": [
       "    Gender Occupation Parttime_job                      food_type Junk_food  \\\n",
       "47  Female    Student           No                Vegetarian food       Yes   \n",
       "48    Male    Student          Yes            Non Vegetarian food       Yes   \n",
       "49  Female    Student           No                Vegetarian food       Yes   \n",
       "50  Female    Student           No  Vegetarian and Non vegetarian       Yes   \n",
       "51  Female    Student           No  Vegetarian and Non vegetarian       Yes   \n",
       "\n",
       "   Consumption_of_junk_food Exercise How_often_you_exercise  \\\n",
       "47                Sometimes    Maybe              Sometimes   \n",
       "48                Sometimes      Yes             Very Often   \n",
       "49               Very Often      Yes             Very Often   \n",
       "50                Sometimes      Yes              Sometimes   \n",
       "51                Sometimes    Maybe             Very Often   \n",
       "\n",
       "   Type_of_Physicalactivity Meditaton  ... Reason_for_dietplan  \\\n",
       "47                     Yoga        No  ...                 NaN   \n",
       "48                    Other     Maybe  ...     To Stay healthy   \n",
       "49                    Other        No  ...                 NaN   \n",
       "50                   Cardio       Yes  ...                 NaN   \n",
       "51                      Gym        No  ...         Weight loss   \n",
       "\n",
       "   Change_after_dietplan Dietplan_duration Stress Clamness_level  \\\n",
       "47                 Maybe           0 month    Yes            3.0   \n",
       "48                    No           0 month    Yes            1.0   \n",
       "49                 Maybe               NaN    Yes            3.0   \n",
       "50                   Yes        1-4 months    Yes            5.0   \n",
       "51                   Yes           0 month    Yes            2.0   \n",
       "\n",
       "   ExtraCurricular_activities Extracurricular_studies  stress_management  \\\n",
       "47                         No                     Yes  Go out for a walk   \n",
       "48                        Yes                     Yes      Go for a trip   \n",
       "49                        Yes                   Maybe           Exercise   \n",
       "50                        Yes                      No      Go for a trip   \n",
       "51                        Yes                     Yes      Watch a movie   \n",
       "\n",
       "   Do_you_like_to_excercise Happylife_Excercise  \n",
       "47                      Yes                 Yes  \n",
       "48                      Yes                 Yes  \n",
       "49                      Yes                 Yes  \n",
       "50                      Yes                 Yes  \n",
       "51                      Yes                 Yes  \n",
       "\n",
       "[5 rows x 23 columns]"
      ]
     },
     "execution_count": 4,
     "metadata": {},
     "output_type": "execute_result"
    }
   ],
   "source": [
    "happylife_data.tail()"
   ]
  },
  {
   "cell_type": "code",
   "execution_count": 5,
   "id": "eada3907",
   "metadata": {},
   "outputs": [],
   "source": [
    "happylife_data.drop([\"Exercise\", \"Occupation\"], axis=1, inplace=True)"
   ]
  },
  {
   "cell_type": "code",
   "execution_count": 6,
   "id": "757186be",
   "metadata": {},
   "outputs": [
    {
     "data": {
      "text/plain": [
       "Gender                         0\n",
       "Parttime_job                   0\n",
       "food_type                      0\n",
       "Junk_food                      1\n",
       "Consumption_of_junk_food       0\n",
       "How_often_you_exercise         0\n",
       "Type_of_Physicalactivity       0\n",
       "Meditaton                      0\n",
       "Clamness_Excercise             0\n",
       "Effective_excercise\\n          0\n",
       "Diet_plan                      0\n",
       "Reason_for_dietplan           13\n",
       "Change_after_dietplan          0\n",
       "Dietplan_duration             14\n",
       "Stress                         1\n",
       "Clamness_level                 2\n",
       "ExtraCurricular_activities     0\n",
       "Extracurricular_studies        1\n",
       "stress_management              0\n",
       "Do_you_like_to_excercise       4\n",
       "Happylife_Excercise            0\n",
       "dtype: int64"
      ]
     },
     "execution_count": 6,
     "metadata": {},
     "output_type": "execute_result"
    }
   ],
   "source": [
    "happylife_data.isnull().sum()"
   ]
  },
  {
   "cell_type": "code",
   "execution_count": 7,
   "id": "6d10bc85",
   "metadata": {},
   "outputs": [
    {
     "name": "stdout",
     "output_type": "stream",
     "text": [
      "Yes      29\n",
      "Maybe    14\n",
      "No        8\n",
      "Name: Junk_food, dtype: int64\n",
      "Yes      26\n",
      "No       13\n",
      "Maybe    12\n",
      "Name: Stress, dtype: int64\n",
      "To Stay healthy               20\n",
      "Weight loss                   11\n",
      "Weight gain                    5\n",
      "I dont follow a diet plan.     1\n",
      "i've no diet plan              1\n",
      "No plans                       1\n",
      "Name: Reason_for_dietplan, dtype: int64\n",
      "0 month             15\n",
      "1-3 months          10\n",
      "1-4 months           7\n",
      "more than a year     3\n",
      "3-6 months           2\n",
      "4-8 months           1\n",
      "Name: Dietplan_duration, dtype: int64\n",
      "No       25\n",
      "Maybe    14\n",
      "Yes      12\n",
      "Name: Extracurricular_studies, dtype: int64\n",
      "Yes      43\n",
      "No        4\n",
      "Maybe     1\n",
      "Name: Do_you_like_to_excercise, dtype: int64\n"
     ]
    }
   ],
   "source": [
    "col=[\"Junk_food\", \"Stress\", \"Reason_for_dietplan\", \"Dietplan_duration\", \"Extracurricular_studies\", \"Do_you_like_to_excercise\"]\n",
    "\n",
    "for i in col:\n",
    "    print(happylife_data[i].value_counts())\n",
    "    "
   ]
  },
  {
   "cell_type": "code",
   "execution_count": 8,
   "id": "0ebaa1b7",
   "metadata": {},
   "outputs": [],
   "source": [
    "col=[\"Junk_food\", \"Stress\", \"Extracurricular_studies\", \"Do_you_like_to_excercise\"]\n",
    "\n",
    "for i in col:\n",
    "    happylife_data[i].fillna(\"Maybe\", inplace=True)\n",
    "    \n",
    "happylife_data[\"Dietplan_duration\"].fillna(\"0 month\", inplace=True)\n",
    "happylife_data[\"Reason_for_dietplan\"].fillna(\"No plans\", inplace=True)\n",
    "happylife_data[\"Clamness_level\"].fillna(happylife_data[\"Clamness_level\"].mean, inplace=True)"
   ]
  },
  {
   "cell_type": "code",
   "execution_count": 9,
   "id": "50949966",
   "metadata": {},
   "outputs": [
    {
     "data": {
      "text/plain": [
       "Gender                        0\n",
       "Parttime_job                  0\n",
       "food_type                     0\n",
       "Junk_food                     0\n",
       "Consumption_of_junk_food      0\n",
       "How_often_you_exercise        0\n",
       "Type_of_Physicalactivity      0\n",
       "Meditaton                     0\n",
       "Clamness_Excercise            0\n",
       "Effective_excercise\\n         0\n",
       "Diet_plan                     0\n",
       "Reason_for_dietplan           0\n",
       "Change_after_dietplan         0\n",
       "Dietplan_duration             0\n",
       "Stress                        0\n",
       "Clamness_level                0\n",
       "ExtraCurricular_activities    0\n",
       "Extracurricular_studies       0\n",
       "stress_management             0\n",
       "Do_you_like_to_excercise      0\n",
       "Happylife_Excercise           0\n",
       "dtype: int64"
      ]
     },
     "execution_count": 9,
     "metadata": {},
     "output_type": "execute_result"
    }
   ],
   "source": [
    "happylife_data.isnull().sum()"
   ]
  },
  {
   "cell_type": "code",
   "execution_count": 10,
   "id": "0f3e1fff",
   "metadata": {},
   "outputs": [
    {
     "data": {
      "text/html": [
       "<div>\n",
       "<style scoped>\n",
       "    .dataframe tbody tr th:only-of-type {\n",
       "        vertical-align: middle;\n",
       "    }\n",
       "\n",
       "    .dataframe tbody tr th {\n",
       "        vertical-align: top;\n",
       "    }\n",
       "\n",
       "    .dataframe thead th {\n",
       "        text-align: right;\n",
       "    }\n",
       "</style>\n",
       "<table border=\"1\" class=\"dataframe\">\n",
       "  <thead>\n",
       "    <tr style=\"text-align: right;\">\n",
       "      <th></th>\n",
       "      <th>Gender</th>\n",
       "      <th>Parttime_job</th>\n",
       "      <th>food_type</th>\n",
       "      <th>Junk_food</th>\n",
       "      <th>Consumption_of_junk_food</th>\n",
       "      <th>How_often_you_exercise</th>\n",
       "      <th>Type_of_Physicalactivity</th>\n",
       "      <th>Meditaton</th>\n",
       "      <th>Clamness_Excercise</th>\n",
       "      <th>Effective_excercise\\n</th>\n",
       "      <th>...</th>\n",
       "      <th>Reason_for_dietplan</th>\n",
       "      <th>Change_after_dietplan</th>\n",
       "      <th>Dietplan_duration</th>\n",
       "      <th>Stress</th>\n",
       "      <th>Clamness_level</th>\n",
       "      <th>ExtraCurricular_activities</th>\n",
       "      <th>Extracurricular_studies</th>\n",
       "      <th>stress_management</th>\n",
       "      <th>Do_you_like_to_excercise</th>\n",
       "      <th>Happylife_Excercise</th>\n",
       "    </tr>\n",
       "  </thead>\n",
       "  <tbody>\n",
       "    <tr>\n",
       "      <th>0</th>\n",
       "      <td>Female</td>\n",
       "      <td>Yes</td>\n",
       "      <td>Vegetarian food includes Eggs</td>\n",
       "      <td>No</td>\n",
       "      <td>Sometimes</td>\n",
       "      <td>Sometimes</td>\n",
       "      <td>Yoga</td>\n",
       "      <td>Yes</td>\n",
       "      <td>Yes</td>\n",
       "      <td>Yoga</td>\n",
       "      <td>...</td>\n",
       "      <td>To Stay healthy</td>\n",
       "      <td>Maybe</td>\n",
       "      <td>0 month</td>\n",
       "      <td>No</td>\n",
       "      <td>3.0</td>\n",
       "      <td>No</td>\n",
       "      <td>Maybe</td>\n",
       "      <td>Go out for a walk</td>\n",
       "      <td>Yes</td>\n",
       "      <td>Yes</td>\n",
       "    </tr>\n",
       "    <tr>\n",
       "      <th>1</th>\n",
       "      <td>Male</td>\n",
       "      <td>No</td>\n",
       "      <td>Non Vegetarian food</td>\n",
       "      <td>Maybe</td>\n",
       "      <td>Sometimes</td>\n",
       "      <td>Never</td>\n",
       "      <td>Cardio</td>\n",
       "      <td>No</td>\n",
       "      <td>Maybe</td>\n",
       "      <td>Yoga</td>\n",
       "      <td>...</td>\n",
       "      <td>Weight loss</td>\n",
       "      <td>Yes</td>\n",
       "      <td>1-3 months</td>\n",
       "      <td>No</td>\n",
       "      <td>3.0</td>\n",
       "      <td>No</td>\n",
       "      <td>No</td>\n",
       "      <td>Go for a trip</td>\n",
       "      <td>No</td>\n",
       "      <td>Maybe</td>\n",
       "    </tr>\n",
       "    <tr>\n",
       "      <th>2</th>\n",
       "      <td>Female</td>\n",
       "      <td>No</td>\n",
       "      <td>Vegetarian food</td>\n",
       "      <td>Maybe</td>\n",
       "      <td>Sometimes</td>\n",
       "      <td>Sometimes</td>\n",
       "      <td>Other</td>\n",
       "      <td>No</td>\n",
       "      <td>Yes</td>\n",
       "      <td>Option 4</td>\n",
       "      <td>...</td>\n",
       "      <td>To Stay healthy</td>\n",
       "      <td>Yes</td>\n",
       "      <td>1-3 months</td>\n",
       "      <td>Maybe</td>\n",
       "      <td>3.0</td>\n",
       "      <td>Yes</td>\n",
       "      <td>Maybe</td>\n",
       "      <td>Go out for a walk</td>\n",
       "      <td>Yes</td>\n",
       "      <td>Yes</td>\n",
       "    </tr>\n",
       "    <tr>\n",
       "      <th>3</th>\n",
       "      <td>Female</td>\n",
       "      <td>No</td>\n",
       "      <td>Vegetarian food</td>\n",
       "      <td>Yes</td>\n",
       "      <td>Sometimes</td>\n",
       "      <td>Sometimes</td>\n",
       "      <td>Cardio</td>\n",
       "      <td>No</td>\n",
       "      <td>Yes</td>\n",
       "      <td>Cardio</td>\n",
       "      <td>...</td>\n",
       "      <td>No plans</td>\n",
       "      <td>No</td>\n",
       "      <td>0 month</td>\n",
       "      <td>Yes</td>\n",
       "      <td>3.0</td>\n",
       "      <td>No</td>\n",
       "      <td>Maybe</td>\n",
       "      <td>Go out for a walk</td>\n",
       "      <td>Yes</td>\n",
       "      <td>Yes</td>\n",
       "    </tr>\n",
       "    <tr>\n",
       "      <th>4</th>\n",
       "      <td>Female</td>\n",
       "      <td>No</td>\n",
       "      <td>Non Vegetarian food</td>\n",
       "      <td>Maybe</td>\n",
       "      <td>Sometimes</td>\n",
       "      <td>Very Often</td>\n",
       "      <td>Cardio</td>\n",
       "      <td>No</td>\n",
       "      <td>Yes</td>\n",
       "      <td>Cardio</td>\n",
       "      <td>...</td>\n",
       "      <td>No plans</td>\n",
       "      <td>No</td>\n",
       "      <td>0 month</td>\n",
       "      <td>Maybe</td>\n",
       "      <td>4.0</td>\n",
       "      <td>No</td>\n",
       "      <td>No</td>\n",
       "      <td>Go out for a walk</td>\n",
       "      <td>Yes</td>\n",
       "      <td>Yes</td>\n",
       "    </tr>\n",
       "  </tbody>\n",
       "</table>\n",
       "<p>5 rows × 21 columns</p>\n",
       "</div>"
      ],
      "text/plain": [
       "   Gender Parttime_job                      food_type Junk_food  \\\n",
       "0  Female          Yes  Vegetarian food includes Eggs        No   \n",
       "1    Male           No            Non Vegetarian food     Maybe   \n",
       "2  Female           No                Vegetarian food     Maybe   \n",
       "3  Female           No                Vegetarian food       Yes   \n",
       "4  Female           No            Non Vegetarian food     Maybe   \n",
       "\n",
       "  Consumption_of_junk_food How_often_you_exercise Type_of_Physicalactivity  \\\n",
       "0                Sometimes              Sometimes                     Yoga   \n",
       "1                Sometimes                  Never                   Cardio   \n",
       "2                Sometimes              Sometimes                    Other   \n",
       "3                Sometimes              Sometimes                   Cardio   \n",
       "4                Sometimes             Very Often                   Cardio   \n",
       "\n",
       "  Meditaton Clamness_Excercise Effective_excercise\\n  ... Reason_for_dietplan  \\\n",
       "0       Yes                Yes                  Yoga  ...     To Stay healthy   \n",
       "1        No              Maybe                  Yoga  ...         Weight loss   \n",
       "2        No                Yes              Option 4  ...     To Stay healthy   \n",
       "3        No                Yes                Cardio  ...            No plans   \n",
       "4        No                Yes                Cardio  ...            No plans   \n",
       "\n",
       "  Change_after_dietplan Dietplan_duration Stress Clamness_level  \\\n",
       "0                 Maybe           0 month     No            3.0   \n",
       "1                   Yes        1-3 months     No            3.0   \n",
       "2                   Yes        1-3 months  Maybe            3.0   \n",
       "3                    No           0 month    Yes            3.0   \n",
       "4                    No           0 month  Maybe            4.0   \n",
       "\n",
       "  ExtraCurricular_activities Extracurricular_studies  stress_management  \\\n",
       "0                         No                   Maybe  Go out for a walk   \n",
       "1                         No                      No      Go for a trip   \n",
       "2                        Yes                   Maybe  Go out for a walk   \n",
       "3                         No                   Maybe  Go out for a walk   \n",
       "4                         No                      No  Go out for a walk   \n",
       "\n",
       "  Do_you_like_to_excercise Happylife_Excercise  \n",
       "0                      Yes                 Yes  \n",
       "1                       No               Maybe  \n",
       "2                      Yes                 Yes  \n",
       "3                      Yes                 Yes  \n",
       "4                      Yes                 Yes  \n",
       "\n",
       "[5 rows x 21 columns]"
      ]
     },
     "execution_count": 10,
     "metadata": {},
     "output_type": "execute_result"
    }
   ],
   "source": [
    "happylife_data.head()"
   ]
  },
  {
   "cell_type": "markdown",
   "id": "ff574fc4",
   "metadata": {},
   "source": [
    "Analyse the graphs and make note of what is the relation between those two and find what impact what variable and apply Chi-sq test and contengency table. "
   ]
  },
  {
   "cell_type": "markdown",
   "id": "9221e4ab",
   "metadata": {},
   "source": [
    "And construc the Null & Alternate Hypothesis."
   ]
  },
  {
   "cell_type": "markdown",
   "id": "b732538e",
   "metadata": {},
   "source": [
    "________________________________________________________________________________________________________________________________"
   ]
  },
  {
   "cell_type": "markdown",
   "id": "2071a53c",
   "metadata": {},
   "source": [
    "## H0: There is no relation between the variables\n",
    "## H1: There is a relation between the variables"
   ]
  },
  {
   "cell_type": "code",
   "execution_count": 11,
   "id": "be14ecec",
   "metadata": {},
   "outputs": [
    {
     "name": "stdout",
     "output_type": "stream",
     "text": [
      "Happylife_Excercise  Maybe  No  Yes\n",
      "Gender                             \n",
      "Female                   3   1   21\n",
      "Male                     4   3   20\n",
      "(1.0919396051103372, 0.5792797238841703, 2, array([[ 3.36538462,  1.92307692, 19.71153846],\n",
      "       [ 3.63461538,  2.07692308, 21.28846154]]))\n",
      "The P-value for Gender and Happy life wilth exercise is  0.5792797238841703\n"
     ]
    }
   ],
   "source": [
    "CrosstabResult=pd.crosstab(index=happylife_data[\"Gender\"],columns=happylife_data['Happylife_Excercise'])\n",
    "print(CrosstabResult)\n",
    "\n",
    "from scipy.stats import chi2_contingency\n",
    "chiSq=chi2_contingency(CrosstabResult)\n",
    "\n",
    "print(chiSq)\n",
    "\n",
    "print(\"The P-value for Gender and Happy life wilth exercise is \", chiSq[1])"
   ]
  },
  {
   "cell_type": "code",
   "execution_count": 12,
   "id": "656839cf",
   "metadata": {},
   "outputs": [
    {
     "name": "stdout",
     "output_type": "stream",
     "text": [
      "Happylife_Excercise  Maybe  No  Yes\n",
      "Parttime_job                       \n",
      "Maybe                    1   0    2\n",
      "No                       5   4   34\n",
      "Yes                      1   0    5\n",
      "(1.942468195446074, 0.7463397857770568, 4, array([[ 0.40384615,  0.23076923,  2.36538462],\n",
      "       [ 5.78846154,  3.30769231, 33.90384615],\n",
      "       [ 0.80769231,  0.46153846,  4.73076923]]))\n",
      "The P-value for Parttime job and Happy life wilth exercise is  0.7463397857770568\n"
     ]
    }
   ],
   "source": [
    "CrosstabResult=pd.crosstab(index=happylife_data[\"Parttime_job\"],columns=happylife_data['Happylife_Excercise'])\n",
    "print(CrosstabResult)\n",
    "\n",
    "from scipy.stats import chi2_contingency\n",
    "chiSq=chi2_contingency(CrosstabResult)\n",
    "\n",
    "print(chiSq)\n",
    "print(\"The P-value for Parttime job and Happy life wilth exercise is \", chiSq[1])"
   ]
  },
  {
   "cell_type": "code",
   "execution_count": 13,
   "id": "20fa357a",
   "metadata": {},
   "outputs": [
    {
     "name": "stdout",
     "output_type": "stream",
     "text": [
      "Happylife_Excercise            Maybe  No  Yes\n",
      "food_type                                    \n",
      "Non Vegetarian food                5   1    5\n",
      "Vegetarian and Non vegetarian      2   2   16\n",
      "Vegetarian food                    0   1   10\n",
      "Vegetarian food includes Eggs      0   0   10\n",
      "(14.661957554640482, 0.023055320108299075, 6, array([[ 1.48076923,  0.84615385,  8.67307692],\n",
      "       [ 2.69230769,  1.53846154, 15.76923077],\n",
      "       [ 1.48076923,  0.84615385,  8.67307692],\n",
      "       [ 1.34615385,  0.76923077,  7.88461538]]))\n",
      "The P-value for Food type and Happy life wilth exercise is  0.023055320108299075\n"
     ]
    }
   ],
   "source": [
    "CrosstabResult=pd.crosstab(index=happylife_data['food_type'],columns=happylife_data['Happylife_Excercise'])\n",
    "print(CrosstabResult)\n",
    "\n",
    "from scipy.stats import chi2_contingency\n",
    "chiSq=chi2_contingency(CrosstabResult)\n",
    "\n",
    "print(chiSq)\n",
    "print(\"The P-value for Food type and Happy life wilth exercise is \", chiSq[1])"
   ]
  },
  {
   "cell_type": "code",
   "execution_count": 14,
   "id": "c243040c",
   "metadata": {},
   "outputs": [
    {
     "name": "stdout",
     "output_type": "stream",
     "text": [
      "Happylife_Excercise       Maybe  No  Yes\n",
      "Consumption_of_junk_food                \n",
      "Sometimes                     4   2   38\n",
      "Very Often                    3   2    3\n",
      "(9.79014887551473, 0.007483352159213244, 2, array([[ 5.92307692,  3.38461538, 34.69230769],\n",
      "       [ 1.07692308,  0.61538462,  6.30769231]]))\n",
      "The P-value for Consumption of junk food and Happy life wilth exercise is  0.007483352159213244\n"
     ]
    }
   ],
   "source": [
    "CrosstabResult=pd.crosstab(index=happylife_data['Consumption_of_junk_food'],columns=happylife_data['Happylife_Excercise'])\n",
    "print(CrosstabResult)\n",
    "\n",
    "from scipy.stats import chi2_contingency\n",
    "chiSq=chi2_contingency(CrosstabResult)\n",
    "\n",
    "print(chiSq)\n",
    "print(\"The P-value for Consumption of junk food and Happy life wilth exercise is \", chiSq[1])"
   ]
  },
  {
   "cell_type": "code",
   "execution_count": 15,
   "id": "a3d9c47a",
   "metadata": {},
   "outputs": [
    {
     "name": "stdout",
     "output_type": "stream",
     "text": [
      "Happylife_Excercise       Maybe  No  Yes\n",
      "Type_of_Physicalactivity                \n",
      "Cardio                        1   0    6\n",
      "Gym                           0   1   10\n",
      "Other                         2   1   11\n",
      "Running                       2   2    8\n",
      "Yoga                          1   0    6\n",
      "Zumba                         1   0    0\n",
      "(10.89451257221292, 0.3657953473639736, 10, array([[ 0.94230769,  0.53846154,  5.51923077],\n",
      "       [ 1.48076923,  0.84615385,  8.67307692],\n",
      "       [ 1.88461538,  1.07692308, 11.03846154],\n",
      "       [ 1.61538462,  0.92307692,  9.46153846],\n",
      "       [ 0.94230769,  0.53846154,  5.51923077],\n",
      "       [ 0.13461538,  0.07692308,  0.78846154]]))\n",
      "The P-value for Type of physical activity and Happy life wilth exercise is  0.3657953473639736\n"
     ]
    }
   ],
   "source": [
    "CrosstabResult=pd.crosstab(index=happylife_data['Type_of_Physicalactivity'],columns=happylife_data['Happylife_Excercise'])\n",
    "print(CrosstabResult)\n",
    "\n",
    "from scipy.stats import chi2_contingency\n",
    "chiSq=chi2_contingency(CrosstabResult)\n",
    "\n",
    "print(chiSq)\n",
    "print(\"The P-value for Type of physical activity and Happy life wilth exercise is \", chiSq[1])"
   ]
  },
  {
   "cell_type": "code",
   "execution_count": 16,
   "id": "b303c0d6",
   "metadata": {},
   "outputs": [
    {
     "name": "stdout",
     "output_type": "stream",
     "text": [
      "Happylife_Excercise  Maybe  No  Yes\n",
      "Meditaton                          \n",
      "Maybe                    2   0    9\n",
      "No                       5   4   24\n",
      "Yes                      0   0    8\n",
      "(4.255094498996939, 0.37258198236195567, 4, array([[ 1.48076923,  0.84615385,  8.67307692],\n",
      "       [ 4.44230769,  2.53846154, 26.01923077],\n",
      "       [ 1.07692308,  0.61538462,  6.30769231]]))\n",
      "The P-value for Meditation and Happy life wilth exercise is  0.37258198236195567\n"
     ]
    }
   ],
   "source": [
    "CrosstabResult=pd.crosstab(index=happylife_data['Meditaton'],columns=happylife_data['Happylife_Excercise'])\n",
    "print(CrosstabResult)\n",
    "\n",
    "from scipy.stats import chi2_contingency\n",
    "chiSq=chi2_contingency(CrosstabResult)\n",
    "\n",
    "print(chiSq)\n",
    "print(\"The P-value for Meditation and Happy life wilth exercise is \", chiSq[1])"
   ]
  },
  {
   "cell_type": "code",
   "execution_count": 17,
   "id": "98cc5434",
   "metadata": {},
   "outputs": [
    {
     "name": "stdout",
     "output_type": "stream",
     "text": [
      "Happylife_Excercise    Maybe  No  Yes\n",
      "Change_after_dietplan                \n",
      "Maybe                      3   1   11\n",
      "No                         2   1   10\n",
      "Yes                        2   2   20\n",
      "(1.1394889663182346, 0.8879572965436002, 4, array([[ 2.01923077,  1.15384615, 11.82692308],\n",
      "       [ 1.75      ,  1.        , 10.25      ],\n",
      "       [ 3.23076923,  1.84615385, 18.92307692]]))\n",
      "The P-value for Change after diet plan and Happy life wilth exercise is  0.8879572965436002\n"
     ]
    }
   ],
   "source": [
    "CrosstabResult=pd.crosstab(index=happylife_data['Change_after_dietplan'],columns=happylife_data['Happylife_Excercise'])\n",
    "print(CrosstabResult)\n",
    "\n",
    "from scipy.stats import chi2_contingency\n",
    "chiSq=chi2_contingency(CrosstabResult)\n",
    "\n",
    "print(chiSq)\n",
    "print(\"The P-value for Change after diet plan and Happy life wilth exercise is \", chiSq[1])"
   ]
  },
  {
   "cell_type": "code",
   "execution_count": 18,
   "id": "c15d687b",
   "metadata": {},
   "outputs": [
    {
     "name": "stdout",
     "output_type": "stream",
     "text": [
      "Happylife_Excercise         Maybe  No  Yes\n",
      "ExtraCurricular_activities                \n",
      "Maybe                           2   0    3\n",
      "No                              2   3   19\n",
      "Yes                             3   1   19\n",
      "(4.794845477957885, 0.30900259231672517, 4, array([[ 0.67307692,  0.38461538,  3.94230769],\n",
      "       [ 3.23076923,  1.84615385, 18.92307692],\n",
      "       [ 3.09615385,  1.76923077, 18.13461538]]))\n",
      "The P-value for Extra curricular activities and Happy life wilth exercise is  0.30900259231672517\n"
     ]
    }
   ],
   "source": [
    "CrosstabResult=pd.crosstab(index=happylife_data['ExtraCurricular_activities'],columns=happylife_data['Happylife_Excercise'])\n",
    "print(CrosstabResult)\n",
    "\n",
    "from scipy.stats import chi2_contingency\n",
    "chiSq=chi2_contingency(CrosstabResult)\n",
    "\n",
    "print(chiSq)\n",
    "print(\"The P-value for Extra curricular activities and Happy life wilth exercise is \", chiSq[1])"
   ]
  },
  {
   "cell_type": "code",
   "execution_count": 19,
   "id": "4c5f909c",
   "metadata": {},
   "outputs": [
    {
     "name": "stdout",
     "output_type": "stream",
     "text": [
      "Happylife_Excercise  Maybe  No  Yes\n",
      "stress_management                  \n",
      "Exercise                 0   1    5\n",
      "Go for a trip            1   0    5\n",
      "Go out for a walk        2   2   18\n",
      "Meditate                 0   0    1\n",
      "Singing                  0   0    4\n",
      "Watch a movie            4   1    8\n",
      "(7.094868546088058, 0.7164594609174602, 10, array([[ 0.80769231,  0.46153846,  4.73076923],\n",
      "       [ 0.80769231,  0.46153846,  4.73076923],\n",
      "       [ 2.96153846,  1.69230769, 17.34615385],\n",
      "       [ 0.13461538,  0.07692308,  0.78846154],\n",
      "       [ 0.53846154,  0.30769231,  3.15384615],\n",
      "       [ 1.75      ,  1.        , 10.25      ]]))\n",
      "The P-value for Stress management and Happy life wilth exercise is  0.7164594609174602\n"
     ]
    }
   ],
   "source": [
    "CrosstabResult=pd.crosstab(index=happylife_data['stress_management'],columns=happylife_data['Happylife_Excercise'])\n",
    "print(CrosstabResult)\n",
    "\n",
    "from scipy.stats import chi2_contingency\n",
    "chiSq=chi2_contingency(CrosstabResult)\n",
    "\n",
    "print(chiSq)\n",
    "print(\"The P-value for Stress management and Happy life wilth exercise is \", chiSq[1])"
   ]
  },
  {
   "cell_type": "markdown",
   "id": "51b5a8ad",
   "metadata": {},
   "source": [
    "## the P-value came higher than 0.05. Hence H0 will be accepted. Which means the variables are not correlated with each other."
   ]
  },
  {
   "cell_type": "markdown",
   "id": "28d63765",
   "metadata": {},
   "source": [
    "___________________________________________________________________________"
   ]
  },
  {
   "cell_type": "code",
   "execution_count": 20,
   "id": "1e6e1293",
   "metadata": {},
   "outputs": [],
   "source": [
    "sns.set_theme(style=\"darkgrid\")"
   ]
  },
  {
   "cell_type": "code",
   "execution_count": 21,
   "id": "6b7af24e",
   "metadata": {},
   "outputs": [],
   "source": [
    "col = [\"Junk_food\", \"How_often_you_exercise\",\"Reason_for_dietplan\", \"Dietplan_duration\", \"Stress\", \"Extracurricular_studies\", \"Do_you_like_to_excercise\"]"
   ]
  },
  {
   "cell_type": "code",
   "execution_count": 22,
   "id": "dac3d975",
   "metadata": {},
   "outputs": [
    {
     "data": {
      "image/png": "[encoded data removed]",
      "text/plain": [
       "<Figure size 864x576 with 1 Axes>"
      ]
     },
     "metadata": {},
     "output_type": "display_data"
    },
    {
     "data": {
      "image/png": "[encoded data removed]",
      "text/plain": [
       "<Figure size 864x576 with 1 Axes>"
      ]
     },
     "metadata": {},
     "output_type": "display_data"
    },
    {
     "data": {
      "image/png": "[encoded data removed]",
      "text/plain": [
       "<Figure size 864x576 with 1 Axes>"
      ]
     },
     "metadata": {},
     "output_type": "display_data"
    },
    {
     "data": {
      "image/png": "[encoded data removed]",
      "text/plain": [
       "<Figure size 864x576 with 1 Axes>"
      ]
     },
     "metadata": {},
     "output_type": "display_data"
    },
    {
     "data": {
      "image/png": "[encoded data removed]",
      "text/plain": [
       "<Figure size 864x576 with 1 Axes>"
      ]
     },
     "metadata": {},
     "output_type": "display_data"
    },
    {
     "data": {
      "image/png": "[encoded data removed]",
      "text/plain": [
       "<Figure size 864x576 with 1 Axes>"
      ]
     },
     "metadata": {},
     "output_type": "display_data"
    },
    {
     "data": {
      "image/png": "[encoded data removed]",
      "text/plain": [
       "<Figure size 864x576 with 1 Axes>"
      ]
     },
     "metadata": {},
     "output_type": "display_data"
    }
   ],
   "source": [
    "for i in col:\n",
    "    fig, ax=plt.subplots(figsize=(12,8))\n",
    "    sns.countplot(x=i, hue=\"Happylife_Excercise\", data=happylife_data)\n",
    "    plt.show()"
   ]
  },
  {
   "cell_type": "markdown",
   "id": "332eb608",
   "metadata": {},
   "source": [
    "________________________________________________________________________________________________________________________________"
   ]
  },
  {
   "cell_type": "markdown",
   "id": "8066bb96",
   "metadata": {},
   "source": [
    "______________________________________________________________________________________________________________________"
   ]
  },
  {
   "cell_type": "markdown",
   "id": "9d0694d6",
   "metadata": {},
   "source": [
    "## Target variable is Happylife_Exercise"
   ]
  },
  {
   "cell_type": "code",
   "execution_count": null,
   "id": "ac2f0142",
   "metadata": {},
   "outputs": [],
   "source": []
  }
 ],
 "metadata": {
  "kernelspec": {
   "display_name": "Python 3 (ipykernel)",
   "language": "python",
   "name": "python3"
  },
  "language_info": {
   "codemirror_mode": {
    "name": "ipython",
    "version": 3
   },
   "file_extension": ".py",
   "mimetype": "text/x-python",
   "name": "python",
   "nbconvert_exporter": "python",
   "pygments_lexer": "ipython3",
   "version": "3.10.9"
  }
 },
 "nbformat": 4,
 "nbformat_minor": 5
}
